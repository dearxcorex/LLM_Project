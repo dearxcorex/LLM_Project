{
 "cells": [
  {
   "cell_type": "code",
   "execution_count": 19,
   "metadata": {},
   "outputs": [
    {
     "name": "stdout",
     "output_type": "stream",
     "text": [
      "๑.\tเรื่องเดิม\n",
      "\tตามบันทึก สำนักงาน กสทช. เขต 23 งานตรวจสอบและกำกับดูแล ที่ สทช 2303.3/19   ลงวันที่ 22 มกราคม 2567 เรื่อง แผนการปฏิบัติงานตรวจสอบและกำกับดูแลประจำปี 2567 ได้รับความเห็นชอบแผนปฏิบัติงานตรวจสอบและกำกับดูแลประจำปี ๒๕๖7 ของสำนักงาน กสทช. เขต ๒๓ โดย ผภภ. 23 รายละเอียดปรากฏตามเอกสารแนบ นั้น \n",
      "๒.\tเรื่องเพื่อพิจารณา\n",
      "\t2.1\tเพื่อให้การปฏิบัติงานตามข้อ ๑. เป็นไปด้วยความเรียบร้อย จึงขออนุมัติให้พนักงาน ภภ. 23 เดินทางไปปฏิบัติหน้าที่ ระหว่างวันที่ 24 – 25 มกราคม 2567  ในเขตพื้นที่จังหวัดชัยภูมิ และพื้นที่ใกล้เคียง โดยมีพนักงานดังนี้\n"
     ]
    }
   ],
   "source": [
    "from docx import Document\n",
    "\n",
    "\n",
    "def extract_text_from_docx(docx_file,start_paragraph, end_paragraph):\n",
    "\n",
    "\n",
    "    #Load .docx file \n",
    "    doc = Document(docx_file) \n",
    "    extracted_text = [] \n",
    "    \n",
    "    start_index =  start_paragraph - 1 \n",
    "    end_index = end_paragraph\n",
    "\n",
    "    for i,para in enumerate(doc.paragraphs):\n",
    "        if start_index <= i < end_index:\n",
    "            extracted_text.append(para.text)\n",
    "\n",
    "\n",
    "    return '\\n'.join(extracted_text)\n",
    "\n",
    "\n",
    "\n",
    "\n",
    "start_para = 7\n",
    "end_para = 10\n",
    "file_path = 'doc_data/data_1.docx' \n",
    "text = extract_text_from_docx(file_path,start_para,end_para)\n",
    "\n",
    "print(text)\n"
   ]
  },
  {
   "cell_type": "code",
   "execution_count": null,
   "metadata": {},
   "outputs": [],
   "source": []
  }
 ],
 "metadata": {
  "kernelspec": {
   "display_name": "LLM",
   "language": "python",
   "name": "python3"
  },
  "language_info": {
   "codemirror_mode": {
    "name": "ipython",
    "version": 3
   },
   "file_extension": ".py",
   "mimetype": "text/x-python",
   "name": "python",
   "nbconvert_exporter": "python",
   "pygments_lexer": "ipython3",
   "version": "3.12.2"
  }
 },
 "nbformat": 4,
 "nbformat_minor": 2
}
